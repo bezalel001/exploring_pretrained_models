{
 "cells": [
  {
   "cell_type": "markdown",
   "id": "732cc5cc",
   "metadata": {},
   "source": [
    "# Named Entity Recognition\n",
    "An NLP technique that identifies and categorizes specific elements in text, such as names of people, organisations, locations, dates and quantities."
   ]
  },
  {
   "cell_type": "code",
   "execution_count": 2,
   "id": "62492c9d",
   "metadata": {},
   "outputs": [],
   "source": [
    "from pprint import pprint\n",
    "from transformers import pipeline, AutoTokenizer, AutoModelForTokenClassification"
   ]
  },
  {
   "cell_type": "code",
   "execution_count": 3,
   "id": "1b29f752",
   "metadata": {},
   "outputs": [
    {
     "name": "stderr",
     "output_type": "stream",
     "text": [
      "Some weights of the model checkpoint at dslim/bert-base-NER were not used when initializing BertForTokenClassification: ['bert.pooler.dense.bias', 'bert.pooler.dense.weight']\n",
      "- This IS expected if you are initializing BertForTokenClassification from the checkpoint of a model trained on another task or with another architecture (e.g. initializing a BertForSequenceClassification model from a BertForPreTraining model).\n",
      "- This IS NOT expected if you are initializing BertForTokenClassification from the checkpoint of a model that you expect to be exactly identical (initializing a BertForSequenceClassification model from a BertForSequenceClassification model).\n"
     ]
    }
   ],
   "source": [
    "MODEL = \"dslim/bert-base-NER\"\n",
    "tokenizer = AutoTokenizer.from_pretrained(MODEL)\n",
    "model = AutoModelForTokenClassification.from_pretrained(MODEL)"
   ]
  },
  {
   "cell_type": "code",
   "execution_count": 4,
   "id": "88b3794c",
   "metadata": {},
   "outputs": [
    {
     "name": "stderr",
     "output_type": "stream",
     "text": [
      "Device set to use cpu\n"
     ]
    }
   ],
   "source": [
    "nlp = pipeline(task=\"ner\", model=model, tokenizer=tokenizer)"
   ]
  },
  {
   "cell_type": "code",
   "execution_count": 7,
   "id": "44a41011",
   "metadata": {},
   "outputs": [],
   "source": [
    "exmaple_text = \"My name is Michael and I live and study in Linz.\""
   ]
  },
  {
   "cell_type": "code",
   "execution_count": 8,
   "id": "d7f4a751",
   "metadata": {},
   "outputs": [
    {
     "name": "stdout",
     "output_type": "stream",
     "text": [
      "[{'end': 18,\n",
      "  'entity': 'B-PER',\n",
      "  'index': 4,\n",
      "  'score': np.float32(0.99930966),\n",
      "  'start': 11,\n",
      "  'word': 'Michael'},\n",
      " {'end': 46,\n",
      "  'entity': 'B-LOC',\n",
      "  'index': 11,\n",
      "  'score': np.float32(0.99902534),\n",
      "  'start': 43,\n",
      "  'word': 'Lin'},\n",
      " {'end': 47,\n",
      "  'entity': 'I-LOC',\n",
      "  'index': 12,\n",
      "  'score': np.float32(0.9968637),\n",
      "  'start': 46,\n",
      "  'word': '##z'}]\n"
     ]
    }
   ],
   "source": [
    "results = nlp(exmaple_text)\n",
    "pprint(results)"
   ]
  },
  {
   "cell_type": "code",
   "execution_count": null,
   "id": "8649408b",
   "metadata": {},
   "outputs": [],
   "source": []
  }
 ],
 "metadata": {
  "kernelspec": {
   "display_name": "exploring-pretrained-models",
   "language": "python",
   "name": "python3"
  },
  "language_info": {
   "codemirror_mode": {
    "name": "ipython",
    "version": 3
   },
   "file_extension": ".py",
   "mimetype": "text/x-python",
   "name": "python",
   "nbconvert_exporter": "python",
   "pygments_lexer": "ipython3",
   "version": "3.13.7"
  }
 },
 "nbformat": 4,
 "nbformat_minor": 5
}
