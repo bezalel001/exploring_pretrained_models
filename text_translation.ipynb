{
 "cells": [
  {
   "cell_type": "markdown",
   "id": "a7bd03b4",
   "metadata": {},
   "source": [
    "# Text Translation\n",
    " Translate the sentence \" Be the change you want to see\" to Japanese"
   ]
  },
  {
   "cell_type": "code",
   "execution_count": 1,
   "id": "4cfaff6a",
   "metadata": {},
   "outputs": [
    {
     "name": "stderr",
     "output_type": "stream",
     "text": [
      "/home/mickeybezalel/Developer/exploring_pretrained_models/.venv/lib/python3.13/site-packages/tqdm/auto.py:21: TqdmWarning: IProgress not found. Please update jupyter and ipywidgets. See https://ipywidgets.readthedocs.io/en/stable/user_install.html\n",
      "  from .autonotebook import tqdm as notebook_tqdm\n"
     ]
    }
   ],
   "source": [
    "from transformers import pipeline\n",
    "from IPython.display import Markdown, display"
   ]
  },
  {
   "cell_type": "markdown",
   "id": "4252ffa2",
   "metadata": {},
   "source": [
    "### Task definition and model selection"
   ]
  },
  {
   "cell_type": "code",
   "execution_count": 4,
   "id": "1d34af29",
   "metadata": {},
   "outputs": [
    {
     "name": "stderr",
     "output_type": "stream",
     "text": [
      "/home/mickeybezalel/Developer/exploring_pretrained_models/.venv/lib/python3.13/site-packages/transformers/models/marian/tokenization_marian.py:175: UserWarning: Recommended: pip install sacremoses.\n",
      "  warnings.warn(\"Recommended: pip install sacremoses.\")\n",
      "Device set to use cpu\n"
     ]
    }
   ],
   "source": [
    "task = \"translation\"\n",
    "model = \"staka/fugumt-en-ja\"\n",
    "translator = pipeline(task=task, model=model)"
   ]
  },
  {
   "cell_type": "markdown",
   "id": "bed4a934",
   "metadata": {},
   "source": [
    "### Data preparation and Inference"
   ]
  },
  {
   "cell_type": "code",
   "execution_count": 5,
   "id": "fb704087",
   "metadata": {},
   "outputs": [
    {
     "data": {
      "text/markdown": [
       "**Input:** Be the change that you wish to see in the world."
      ],
      "text/plain": [
       "<IPython.core.display.Markdown object>"
      ]
     },
     "metadata": {},
     "output_type": "display_data"
    },
    {
     "data": {
      "text/markdown": [
       "**Translation:** 世界に見られるような、あなたの求める変化に、ぜひご臨機応変にお立ちをなさって欲しいと思います。"
      ],
      "text/plain": [
       "<IPython.core.display.Markdown object>"
      ]
     },
     "metadata": {},
     "output_type": "display_data"
    }
   ],
   "source": [
    "text = \"Be the change that you wish to see in the world.\"\n",
    "result = translator(text, max_length=512)\n",
    "display(Markdown(f\"**Input:** {text}\"))\n",
    "display(Markdown(f\"**Translation:** {result[0]['translation_text']}\"))"
   ]
  },
  {
   "cell_type": "code",
   "execution_count": 6,
   "id": "e07da3a5",
   "metadata": {},
   "outputs": [
    {
     "name": "stdout",
     "output_type": "stream",
     "text": [
      "[{'translation_text': '世界に見られるような、あなたの求める変化に、ぜひご臨機応変にお立ちをなさって欲しいと思います。'}]\n"
     ]
    }
   ],
   "source": [
    "print(result)"
   ]
  },
  {
   "cell_type": "code",
   "execution_count": null,
   "id": "d0d86dd4",
   "metadata": {},
   "outputs": [],
   "source": []
  }
 ],
 "metadata": {
  "kernelspec": {
   "display_name": "exploring-pretrained-models",
   "language": "python",
   "name": "python3"
  },
  "language_info": {
   "codemirror_mode": {
    "name": "ipython",
    "version": 3
   },
   "file_extension": ".py",
   "mimetype": "text/x-python",
   "name": "python",
   "nbconvert_exporter": "python",
   "pygments_lexer": "ipython3",
   "version": "3.13.7"
  }
 },
 "nbformat": 4,
 "nbformat_minor": 5
}
