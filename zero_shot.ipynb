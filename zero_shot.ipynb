{
 "cells": [
  {
   "cell_type": "markdown",
   "id": "fcfb00b8",
   "metadata": {},
   "source": [
    "# Zero-Shot Classification\n",
    "- classify books into genres(romantic, fantasy, novel) based on the first few sentences of the books"
   ]
  },
  {
   "cell_type": "code",
   "execution_count": 2,
   "id": "5c79f441",
   "metadata": {},
   "outputs": [],
   "source": [
    "from transformers import pipeline\n",
    "import pandas as pd\n",
    "from IPython.display import display, Markdown"
   ]
  },
  {
   "cell_type": "markdown",
   "id": "41e3b6e8",
   "metadata": {},
   "source": [
    "### Task definition and model selection"
   ]
  },
  {
   "cell_type": "code",
   "execution_count": 3,
   "id": "1d9609fe",
   "metadata": {},
   "outputs": [
    {
     "name": "stderr",
     "output_type": "stream",
     "text": [
      "Device set to use cpu\n"
     ]
    }
   ],
   "source": [
    "task = \"zero-shot-classification\"\n",
    "model = \"MoritzLaurer/DeBERTa-v3-base-mnli-fever-anli\"\n",
    "classifier = pipeline(task=task, model=model)"
   ]
  },
  {
   "cell_type": "markdown",
   "id": "95f0754b",
   "metadata": {},
   "source": [
    "### Data preparation\n",
    " - first example: Jane Austen: Pride and Prejudice  (romantic novel)\n",
    " - second example: Lewis Carroll: Alice's Adventures in Wonderland (fantasy novel)\n",
    " - third example: Arthur Conan Doyle \"The Return of Sherlock Holmes\" (crime novel)"
   ]
  },
  {
   "cell_type": "code",
   "execution_count": 4,
   "id": "499dd23a",
   "metadata": {},
   "outputs": [],
   "source": [
    "titles = [\"Pride and Prejudice\", \"Alice's Adventures in Wonderland\", \"The Return of Sherlock Holmes\"]\n",
    "\n",
    "documents = [\n",
    " '''Walt Whitman has somewhere a fine and just distinction between “loving by \n",
    "allowance” and “loving with personal love.” This distinction applies to books as \n",
    "well as to men and women; and in the case of the not very numerous authors who are \n",
    "the objects of the personal affection, it brings a curious consequence with it. \n",
    "There is much more difference as to their best work than in the case of those \n",
    "others who are loved “by allowance” by convention, and because it is felt to be the \n",
    "right and proper thing to love them. And in the sect—fairly large and yet unusually \n",
    "choice—of Austenians or Janites, there would probably be found partisans of the \n",
    "claim to primacy of almost every one of the novels. To some the delightful \n",
    "freshness and humour of Northanger Abbey, its completeness, finish, and entrain, \n",
    "obscure the undoubted critical facts that its scale is small, and its scheme, after \n",
    "all, that of burlesque or parody, a kind in which the first rank is reached with \n",
    "difficulty.''',\n",
    " '''Alice was beginning to get very tired of sitting by her sister on the bank, \n",
    "and of having nothing to do: once or twice she had peeped into the book her sister \n",
    "was reading, but it had no pictures or conversations in it, and what is the use of \n",
    "a book, thought Alice “without pictures or conversations?    \n",
    "So she was considering \n",
    "in her own mind (as well as she could, for the hot day made her feel very sleepy \n",
    "and stupid), whether the pleasure of making a daisy-chain would be worth the \n",
    "trouble of getting up and picking the daisies, when suddenly a White Rabbit with \n",
    "pink eyes ran close by her.''',\n",
    " '''It was in the spring of the year 1894 that all London was interested, and the \n",
    "fashionable world dismayed, by the murder of the Honourable Ronald Adair under most \n",
    "unusual and inexplicable circumstances. The public has already learned those \n",
    "particulars of the crime which came out in the police investigation, but a good \n",
    "deal was suppressed upon that occasion, since the case for the prosecution was so \n",
    "overwhelmingly strong that it was not necessary to bring forward all the facts. \n",
    "Only now, at the end of nearly ten years, am I allowed to supply those missing \n",
    "links which make up the whole of that remarkable chain. The crime was of interest \n",
    "in itself, but that interest was as nothing to me compared to the inconceivable \n",
    "sequel, which afforded me the greatest shock and surprise of any event in my \n",
    "adventurous life. Even now, after this long interval, I find myself thrilling as I \n",
    "think of it, and feeling once more that sudden flood of joy, amazement, and \n",
    "incredulity which utterly submerged my mind. Let me say to that public, which has \n",
    "shown some interest in those glimpses which I have occasionally given them of the \n",
    "thoughts and actions of a very remarkable man, that they are not to blame me if I \n",
    "have not shared my knowledge with them, for I should have considered it my first \n",
    "duty to do so, had I not been barred by a positive prohibition from his own lips, \n",
    "which was only withdrawn upon the third of last month.'''\n",
    " ]"
   ]
  },
  {
   "cell_type": "markdown",
   "id": "6ccf2d38",
   "metadata": {},
   "source": [
    "### Classify documents"
   ]
  },
  {
   "cell_type": "code",
   "execution_count": 5,
   "id": "d6750741",
   "metadata": {},
   "outputs": [
    {
     "name": "stderr",
     "output_type": "stream",
     "text": [
      "Asking to truncate to max_length but no maximum length is provided and the model has no predefined maximum length. Default to no truncation.\n"
     ]
    }
   ],
   "source": [
    "candidate_labels = ['romance', 'fantasy', 'crime']\n",
    "results = classifier(documents, candidate_labels=candidate_labels)"
   ]
  },
  {
   "cell_type": "markdown",
   "id": "ff386f5a",
   "metadata": {},
   "source": [
    "### Visualize results"
   ]
  },
  {
   "cell_type": "code",
   "execution_count": 9,
   "id": "741e3201",
   "metadata": {},
   "outputs": [
    {
     "data": {
      "text/plain": [
       "<Axes: title={'center': \"Alice's Adventures in Wonderland\"}, xlabel='labels'>"
      ]
     },
     "execution_count": 9,
     "metadata": {},
     "output_type": "execute_result"
    },
    {
     "data": {
      "image/png": "[encoded data removed]",
      "text/plain": [
       "<Figure size 640x480 with 1 Axes>"
      ]
     },
     "metadata": {},
     "output_type": "display_data"
    }
   ],
   "source": [
    "pos = 1\n",
    "pd.DataFrame(results[pos]).plot.bar(x='labels', y='scores', title=titles[pos])"
   ]
  },
  {
   "cell_type": "code",
   "execution_count": null,
   "id": "37137a5d",
   "metadata": {},
   "outputs": [],
   "source": []
  }
 ],
 "metadata": {
  "kernelspec": {
   "display_name": "exploring-pretrained-models",
   "language": "python",
   "name": "python3"
  },
  "language_info": {
   "codemirror_mode": {
    "name": "ipython",
    "version": 3
   },
   "file_extension": ".py",
   "mimetype": "text/x-python",
   "name": "python",
   "nbconvert_exporter": "python",
   "pygments_lexer": "ipython3",
   "version": "3.13.7"
  }
 },
 "nbformat": 4,
 "nbformat_minor": 5
}
