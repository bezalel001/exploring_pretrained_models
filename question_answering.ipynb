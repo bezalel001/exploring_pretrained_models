{
 "cells": [
  {
   "cell_type": "markdown",
   "id": "a2b759e8",
   "metadata": {},
   "source": [
    "# Question Answering"
   ]
  },
  {
   "cell_type": "code",
   "execution_count": 2,
   "id": "e51013e1",
   "metadata": {},
   "outputs": [],
   "source": [
    "from pprint import pprint\n",
    "from transformers import AutoModelForQuestionAnswering, AutoTokenizer, pipeline"
   ]
  },
  {
   "cell_type": "code",
   "execution_count": 3,
   "id": "a98d974b",
   "metadata": {},
   "outputs": [
    {
     "name": "stderr",
     "output_type": "stream",
     "text": [
      "Device set to use cpu\n"
     ]
    }
   ],
   "source": [
    "task = 'question-answering'\n",
    "MODEL = 'deepset/roberta-base-squad2'\n",
    "nlp = pipeline(task=task, model=MODEL, tokenizer=MODEL)"
   ]
  },
  {
   "cell_type": "code",
   "execution_count": 6,
   "id": "74d0bcc5",
   "metadata": {},
   "outputs": [],
   "source": [
    "# provide context and question\n",
    "qa_input = {\n",
    "    'question': 'What are the benefits of remote work?',\n",
    "    'context': 'Remote work offers several benefits including increased flexibility, improved work-life balance, and reduced commuting time. It allows employees to work from any location, which can lead to higher job satisfaction and productivity. Additionally, remote work can help companies save on office space and related expenses.'\n",
    "}"
   ]
  },
  {
   "cell_type": "code",
   "execution_count": 7,
   "id": "587a1b06",
   "metadata": {},
   "outputs": [
    {
     "name": "stdout",
     "output_type": "stream",
     "text": [
      "{'answer': 'increased flexibility, improved work-life balance, and reduced '\n",
      "           'commuting time',\n",
      " 'end': 123,\n",
      " 'score': 0.6761744022369385,\n",
      " 'start': 46}\n"
     ]
    }
   ],
   "source": [
    "result = nlp(qa_input)\n",
    "pprint(result)"
   ]
  },
  {
   "cell_type": "code",
   "execution_count": null,
   "id": "33fe26cd",
   "metadata": {},
   "outputs": [],
   "source": []
  }
 ],
 "metadata": {
  "kernelspec": {
   "display_name": "exploring-pretrained-models",
   "language": "python",
   "name": "python3"
  },
  "language_info": {
   "codemirror_mode": {
    "name": "ipython",
    "version": 3
   },
   "file_extension": ".py",
   "mimetype": "text/x-python",
   "name": "python",
   "nbconvert_exporter": "python",
   "pygments_lexer": "ipython3",
   "version": "3.13.7"
  }
 },
 "nbformat": 4,
 "nbformat_minor": 5
}
