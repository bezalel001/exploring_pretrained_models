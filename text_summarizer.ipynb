{
 "cells": [
  {
   "cell_type": "markdown",
   "id": "c1bd46dd",
   "metadata": {},
   "source": [
    "# Text Summarization\n",
    " We will load an Arxiv article and summarize it.\n",
    " - Arxiv is an open-access archive for more than 2 million scholarly articles from different fields like physices, mathematics or computer science.\n",
    " - The articles are typically available as PDF files\n"
   ]
  },
  {
   "cell_type": "code",
   "execution_count": 8,
   "id": "771b6a20",
   "metadata": {},
   "outputs": [],
   "source": [
    "# packages\n",
    "from transformers import pipeline\n",
    "from langchain_community.document_loaders import ArxivLoader\n",
    "from IPython.display import Markdown, display"
   ]
  },
  {
   "cell_type": "markdown",
   "id": "3a4ad20a",
   "metadata": {},
   "source": [
    " ### Task definition and model selection"
   ]
  },
  {
   "cell_type": "code",
   "execution_count": 2,
   "id": "82d977a7",
   "metadata": {},
   "outputs": [
    {
     "name": "stderr",
     "output_type": "stream",
     "text": [
      "Device set to use cpu\n"
     ]
    }
   ],
   "source": [
    "#  task definition and model selection\n",
    "task = 'summarization'\n",
    "model = 'facebook/bart-large-cnn'\n",
    "summarizer = pipeline(task=task, model=model)"
   ]
  },
  {
   "cell_type": "markdown",
   "id": "d3ab3733",
   "metadata": {},
   "source": [
    "### Data Preparation"
   ]
  },
  {
   "cell_type": "code",
   "execution_count": 23,
   "id": "b1f845f2",
   "metadata": {},
   "outputs": [],
   "source": [
    "query = \"AI Engineering and Large Language Models\"\n",
    "loader = ArxivLoader(query=query, load_max_docs=1)\n",
    "documents = loader.load()"
   ]
  },
  {
   "cell_type": "code",
   "execution_count": 24,
   "id": "07c6cb1d",
   "metadata": {},
   "outputs": [],
   "source": [
    "article_text = documents[0].page_content"
   ]
  },
  {
   "cell_type": "markdown",
   "id": "ebe734c3",
   "metadata": {},
   "source": [
    "### Run Summarizer"
   ]
  },
  {
   "cell_type": "code",
   "execution_count": 25,
   "id": "ed791bfa",
   "metadata": {},
   "outputs": [],
   "source": [
    "result = summarizer(article_text[:2000], min_length=20, max_length=80, do_sample=False)\n",
    "summary = result[0]['summary_text']"
   ]
  },
  {
   "cell_type": "code",
   "execution_count": 10,
   "id": "f43166cb",
   "metadata": {},
   "outputs": [],
   "source": [
    "def print_summary(summary_text):\n",
    "    display(Markdown(f\"### Summary:\\n\\n{summary_text}\"))"
   ]
  },
  {
   "cell_type": "code",
   "execution_count": 26,
   "id": "ddc24214",
   "metadata": {},
   "outputs": [
    {
     "data": {
      "text/markdown": [
       "### Summary:\n",
       "\n",
       "Prompt Sapper is a large language model (LLM) empowered software engineering infrastructure for authoring AI chains through collaborative intelligence. Prompt Sapper aims to support the development of AI-native services by AI chain engineering."
      ],
      "text/plain": [
       "<IPython.core.display.Markdown object>"
      ]
     },
     "metadata": {},
     "output_type": "display_data"
    }
   ],
   "source": [
    "print_summary(summary)"
   ]
  },
  {
   "cell_type": "markdown",
   "id": "7803d8bb",
   "metadata": {},
   "source": []
  }
 ],
 "metadata": {
  "kernelspec": {
   "display_name": "exploring-pretrained-models",
   "language": "python",
   "name": "python3"
  },
  "language_info": {
   "codemirror_mode": {
    "name": "ipython",
    "version": 3
   },
   "file_extension": ".py",
   "mimetype": "text/x-python",
   "name": "python",
   "nbconvert_exporter": "python",
   "pygments_lexer": "ipython3",
   "version": "3.13.7"
  }
 },
 "nbformat": 4,
 "nbformat_minor": 5
}
